{
  "nbformat": 4,
  "nbformat_minor": 0,
  "metadata": {
    "colab": {
      "name": "Numpy.ipynb",
      "provenance": []
    },
    "kernelspec": {
      "name": "python3",
      "display_name": "Python 3"
    },
    "language_info": {
      "name": "python"
    }
  },
  "cells": [
    {
      "cell_type": "code",
      "execution_count": null,
      "metadata": {
        "id": "hKjdw14Y-b2S"
      },
      "outputs": [],
      "source": [
        "# Celda para cargar librerias \n",
        "import os \n",
        "import math as m \n",
        "import random as rnd \n",
        "import time \n",
        "# Cargamos numpy \n",
        "import numpy as np\n"
      ]
    },
    {
      "cell_type": "code",
      "source": [
        "help(np)"
      ],
      "metadata": {
        "id": "REoS6RkzBS58"
      },
      "execution_count": null,
      "outputs": []
    },
    {
      "cell_type": "code",
      "source": [
        "# Creacion de objetos de tipo ndarray\n",
        "a = np.array([12,16,9,23,32,0])"
      ],
      "metadata": {
        "id": "y0gDmCwDCoGG"
      },
      "execution_count": null,
      "outputs": []
    },
    {
      "cell_type": "code",
      "source": [
        "type(a)"
      ],
      "metadata": {
        "colab": {
          "base_uri": "https://localhost:8080/"
        },
        "id": "XDTMjgJWCzJx",
        "outputId": "55190eca-fabf-49d6-983f-2939bd0bf897"
      },
      "execution_count": null,
      "outputs": [
        {
          "output_type": "execute_result",
          "data": {
            "text/plain": [
              "numpy.ndarray"
            ]
          },
          "metadata": {},
          "execution_count": 4
        }
      ]
    },
    {
      "cell_type": "code",
      "source": [
        "dir(a)"
      ],
      "metadata": {
        "colab": {
          "base_uri": "https://localhost:8080/"
        },
        "id": "-vfmzxmIC19X",
        "outputId": "019a147b-6ac0-41e6-b16f-16623d01b205"
      },
      "execution_count": null,
      "outputs": [
        {
          "output_type": "execute_result",
          "data": {
            "text/plain": [
              "['T',\n",
              " '__abs__',\n",
              " '__add__',\n",
              " '__and__',\n",
              " '__array__',\n",
              " '__array_finalize__',\n",
              " '__array_function__',\n",
              " '__array_interface__',\n",
              " '__array_prepare__',\n",
              " '__array_priority__',\n",
              " '__array_struct__',\n",
              " '__array_ufunc__',\n",
              " '__array_wrap__',\n",
              " '__bool__',\n",
              " '__class__',\n",
              " '__complex__',\n",
              " '__contains__',\n",
              " '__copy__',\n",
              " '__deepcopy__',\n",
              " '__delattr__',\n",
              " '__delitem__',\n",
              " '__dir__',\n",
              " '__divmod__',\n",
              " '__doc__',\n",
              " '__eq__',\n",
              " '__float__',\n",
              " '__floordiv__',\n",
              " '__format__',\n",
              " '__ge__',\n",
              " '__getattribute__',\n",
              " '__getitem__',\n",
              " '__gt__',\n",
              " '__hash__',\n",
              " '__iadd__',\n",
              " '__iand__',\n",
              " '__ifloordiv__',\n",
              " '__ilshift__',\n",
              " '__imatmul__',\n",
              " '__imod__',\n",
              " '__imul__',\n",
              " '__index__',\n",
              " '__init__',\n",
              " '__init_subclass__',\n",
              " '__int__',\n",
              " '__invert__',\n",
              " '__ior__',\n",
              " '__ipow__',\n",
              " '__irshift__',\n",
              " '__isub__',\n",
              " '__iter__',\n",
              " '__itruediv__',\n",
              " '__ixor__',\n",
              " '__le__',\n",
              " '__len__',\n",
              " '__lshift__',\n",
              " '__lt__',\n",
              " '__matmul__',\n",
              " '__mod__',\n",
              " '__mul__',\n",
              " '__ne__',\n",
              " '__neg__',\n",
              " '__new__',\n",
              " '__or__',\n",
              " '__pos__',\n",
              " '__pow__',\n",
              " '__radd__',\n",
              " '__rand__',\n",
              " '__rdivmod__',\n",
              " '__reduce__',\n",
              " '__reduce_ex__',\n",
              " '__repr__',\n",
              " '__rfloordiv__',\n",
              " '__rlshift__',\n",
              " '__rmatmul__',\n",
              " '__rmod__',\n",
              " '__rmul__',\n",
              " '__ror__',\n",
              " '__rpow__',\n",
              " '__rrshift__',\n",
              " '__rshift__',\n",
              " '__rsub__',\n",
              " '__rtruediv__',\n",
              " '__rxor__',\n",
              " '__setattr__',\n",
              " '__setitem__',\n",
              " '__setstate__',\n",
              " '__sizeof__',\n",
              " '__str__',\n",
              " '__sub__',\n",
              " '__subclasshook__',\n",
              " '__truediv__',\n",
              " '__xor__',\n",
              " 'all',\n",
              " 'any',\n",
              " 'argmax',\n",
              " 'argmin',\n",
              " 'argpartition',\n",
              " 'argsort',\n",
              " 'astype',\n",
              " 'base',\n",
              " 'byteswap',\n",
              " 'choose',\n",
              " 'clip',\n",
              " 'compress',\n",
              " 'conj',\n",
              " 'conjugate',\n",
              " 'copy',\n",
              " 'ctypes',\n",
              " 'cumprod',\n",
              " 'cumsum',\n",
              " 'data',\n",
              " 'diagonal',\n",
              " 'dot',\n",
              " 'dtype',\n",
              " 'dump',\n",
              " 'dumps',\n",
              " 'fill',\n",
              " 'flags',\n",
              " 'flat',\n",
              " 'flatten',\n",
              " 'getfield',\n",
              " 'imag',\n",
              " 'item',\n",
              " 'itemset',\n",
              " 'itemsize',\n",
              " 'max',\n",
              " 'mean',\n",
              " 'min',\n",
              " 'nbytes',\n",
              " 'ndim',\n",
              " 'newbyteorder',\n",
              " 'nonzero',\n",
              " 'partition',\n",
              " 'prod',\n",
              " 'ptp',\n",
              " 'put',\n",
              " 'ravel',\n",
              " 'real',\n",
              " 'repeat',\n",
              " 'reshape',\n",
              " 'resize',\n",
              " 'round',\n",
              " 'searchsorted',\n",
              " 'setfield',\n",
              " 'setflags',\n",
              " 'shape',\n",
              " 'size',\n",
              " 'sort',\n",
              " 'squeeze',\n",
              " 'std',\n",
              " 'strides',\n",
              " 'sum',\n",
              " 'swapaxes',\n",
              " 'take',\n",
              " 'tobytes',\n",
              " 'tofile',\n",
              " 'tolist',\n",
              " 'tostring',\n",
              " 'trace',\n",
              " 'transpose',\n",
              " 'var',\n",
              " 'view']"
            ]
          },
          "metadata": {},
          "execution_count": 5
        }
      ]
    },
    {
      "cell_type": "code",
      "source": [
        "# Documentacion del metodo sum\n",
        "help(a.sum)"
      ],
      "metadata": {
        "colab": {
          "base_uri": "https://localhost:8080/"
        },
        "id": "8LcpmGrIC9ic",
        "outputId": "3ae17283-756b-4833-c869-cc6442472573"
      },
      "execution_count": null,
      "outputs": [
        {
          "output_type": "stream",
          "name": "stdout",
          "text": [
            "Help on built-in function sum:\n",
            "\n",
            "sum(...) method of numpy.ndarray instance\n",
            "    a.sum(axis=None, dtype=None, out=None, keepdims=False, initial=0, where=True)\n",
            "    \n",
            "    Return the sum of the array elements over the given axis.\n",
            "    \n",
            "    Refer to `numpy.sum` for full documentation.\n",
            "    \n",
            "    See Also\n",
            "    --------\n",
            "    numpy.sum : equivalent function\n",
            "\n"
          ]
        }
      ]
    },
    {
      "cell_type": "code",
      "source": [
        "a.sum()"
      ],
      "metadata": {
        "colab": {
          "base_uri": "https://localhost:8080/"
        },
        "id": "vQGTki7qDJoy",
        "outputId": "fd6d451f-833a-466c-e806-22ff2944dbd3"
      },
      "execution_count": null,
      "outputs": [
        {
          "output_type": "execute_result",
          "data": {
            "text/plain": [
              "92"
            ]
          },
          "metadata": {},
          "execution_count": 8
        }
      ]
    },
    {
      "cell_type": "code",
      "source": [
        "# Definamos un ndarray bidimensional\n",
        "b = np.array([[1,4,7],[2,5,9]])"
      ],
      "metadata": {
        "id": "KipHgdmHDOcS"
      },
      "execution_count": null,
      "outputs": []
    },
    {
      "cell_type": "code",
      "source": [
        "print(b)"
      ],
      "metadata": {
        "colab": {
          "base_uri": "https://localhost:8080/"
        },
        "id": "aTWBVr9cDc3t",
        "outputId": "62e892e1-d791-49b1-ac95-bfff34aded1c"
      },
      "execution_count": null,
      "outputs": [
        {
          "output_type": "stream",
          "name": "stdout",
          "text": [
            "[[1 4 7]\n",
            " [2 5 9]]\n"
          ]
        }
      ]
    },
    {
      "cell_type": "code",
      "source": [
        "b"
      ],
      "metadata": {
        "colab": {
          "base_uri": "https://localhost:8080/"
        },
        "id": "ANUKftAKDemI",
        "outputId": "cb3fda3e-38e6-45ff-9955-17f5676bf085"
      },
      "execution_count": null,
      "outputs": [
        {
          "output_type": "execute_result",
          "data": {
            "text/plain": [
              "array([[1, 4, 7],\n",
              "       [2, 5, 9]])"
            ]
          },
          "metadata": {},
          "execution_count": 11
        }
      ]
    },
    {
      "cell_type": "code",
      "source": [
        "b.sum()"
      ],
      "metadata": {
        "colab": {
          "base_uri": "https://localhost:8080/"
        },
        "id": "zpkrmfUbDg4_",
        "outputId": "d771a05e-85b0-4a13-a77b-1f3b2fcadc1d"
      },
      "execution_count": null,
      "outputs": [
        {
          "output_type": "execute_result",
          "data": {
            "text/plain": [
              "28"
            ]
          },
          "metadata": {},
          "execution_count": 12
        }
      ]
    },
    {
      "cell_type": "code",
      "source": [
        "# Sumamos los elementos sobre las columnas \n",
        "b.sum(axis = 0)"
      ],
      "metadata": {
        "colab": {
          "base_uri": "https://localhost:8080/"
        },
        "id": "6j8WmwINDnhJ",
        "outputId": "5bd899f0-8094-403e-9e94-182e01ca11ea"
      },
      "execution_count": null,
      "outputs": [
        {
          "output_type": "execute_result",
          "data": {
            "text/plain": [
              "array([ 3,  9, 16])"
            ]
          },
          "metadata": {},
          "execution_count": 13
        }
      ]
    },
    {
      "cell_type": "code",
      "source": [
        "# Sumamos los elementos sobre las filas \n",
        "b.sum(axis = 1)"
      ],
      "metadata": {
        "colab": {
          "base_uri": "https://localhost:8080/"
        },
        "id": "bvu2tBHoDz3m",
        "outputId": "c57a16e2-81a1-4254-ac3d-d58546d0309b"
      },
      "execution_count": null,
      "outputs": [
        {
          "output_type": "execute_result",
          "data": {
            "text/plain": [
              "array([12, 16])"
            ]
          },
          "metadata": {},
          "execution_count": 14
        }
      ]
    },
    {
      "cell_type": "code",
      "source": [
        "c = np.array([(0,1,0),(2,4,6),(1,1,1)])\n",
        "print(c)"
      ],
      "metadata": {
        "colab": {
          "base_uri": "https://localhost:8080/"
        },
        "id": "gbYSpnucD7Cq",
        "outputId": "abb840d8-b215-4164-a03d-0630169e039b"
      },
      "execution_count": null,
      "outputs": [
        {
          "output_type": "stream",
          "name": "stdout",
          "text": [
            "[[0 1 0]\n",
            " [2 4 6]\n",
            " [1 1 1]]\n"
          ]
        }
      ]
    },
    {
      "cell_type": "code",
      "source": [
        "# Sumamos por columnas\n",
        "c.sum(axis = 0)"
      ],
      "metadata": {
        "colab": {
          "base_uri": "https://localhost:8080/"
        },
        "id": "_WpbNMv0EITr",
        "outputId": "51db4c1d-c2b0-4526-905c-062c550bea22"
      },
      "execution_count": null,
      "outputs": [
        {
          "output_type": "execute_result",
          "data": {
            "text/plain": [
              "array([3, 6, 7])"
            ]
          },
          "metadata": {},
          "execution_count": 16
        }
      ]
    },
    {
      "cell_type": "code",
      "source": [
        "# Veamos el comportamiento de la funcion linspace\n",
        "help(np.linspace)"
      ],
      "metadata": {
        "colab": {
          "base_uri": "https://localhost:8080/"
        },
        "id": "qLHRNtJBEQA7",
        "outputId": "a390c710-aead-44cb-f28b-42ff74f37fb4"
      },
      "execution_count": null,
      "outputs": [
        {
          "output_type": "stream",
          "name": "stdout",
          "text": [
            "Help on function linspace in module numpy:\n",
            "\n",
            "linspace(start, stop, num=50, endpoint=True, retstep=False, dtype=None, axis=0)\n",
            "    Return evenly spaced numbers over a specified interval.\n",
            "    \n",
            "    Returns `num` evenly spaced samples, calculated over the\n",
            "    interval [`start`, `stop`].\n",
            "    \n",
            "    The endpoint of the interval can optionally be excluded.\n",
            "    \n",
            "    .. versionchanged:: 1.16.0\n",
            "        Non-scalar `start` and `stop` are now supported.\n",
            "    \n",
            "    .. versionchanged:: 1.20.0\n",
            "        Values are rounded towards ``-inf`` instead of ``0`` when an\n",
            "        integer ``dtype`` is specified. The old behavior can\n",
            "        still be obtained with ``np.linspace(start, stop, num).astype(int)``\n",
            "    \n",
            "    Parameters\n",
            "    ----------\n",
            "    start : array_like\n",
            "        The starting value of the sequence.\n",
            "    stop : array_like\n",
            "        The end value of the sequence, unless `endpoint` is set to False.\n",
            "        In that case, the sequence consists of all but the last of ``num + 1``\n",
            "        evenly spaced samples, so that `stop` is excluded.  Note that the step\n",
            "        size changes when `endpoint` is False.\n",
            "    num : int, optional\n",
            "        Number of samples to generate. Default is 50. Must be non-negative.\n",
            "    endpoint : bool, optional\n",
            "        If True, `stop` is the last sample. Otherwise, it is not included.\n",
            "        Default is True.\n",
            "    retstep : bool, optional\n",
            "        If True, return (`samples`, `step`), where `step` is the spacing\n",
            "        between samples.\n",
            "    dtype : dtype, optional\n",
            "        The type of the output array.  If `dtype` is not given, the data type\n",
            "        is inferred from `start` and `stop`. The inferred dtype will never be\n",
            "        an integer; `float` is chosen even if the arguments would produce an\n",
            "        array of integers.\n",
            "    \n",
            "        .. versionadded:: 1.9.0\n",
            "    \n",
            "    axis : int, optional\n",
            "        The axis in the result to store the samples.  Relevant only if start\n",
            "        or stop are array-like.  By default (0), the samples will be along a\n",
            "        new axis inserted at the beginning. Use -1 to get an axis at the end.\n",
            "    \n",
            "        .. versionadded:: 1.16.0\n",
            "    \n",
            "    Returns\n",
            "    -------\n",
            "    samples : ndarray\n",
            "        There are `num` equally spaced samples in the closed interval\n",
            "        ``[start, stop]`` or the half-open interval ``[start, stop)``\n",
            "        (depending on whether `endpoint` is True or False).\n",
            "    step : float, optional\n",
            "        Only returned if `retstep` is True\n",
            "    \n",
            "        Size of spacing between samples.\n",
            "    \n",
            "    \n",
            "    See Also\n",
            "    --------\n",
            "    arange : Similar to `linspace`, but uses a step size (instead of the\n",
            "             number of samples).\n",
            "    geomspace : Similar to `linspace`, but with numbers spaced evenly on a log\n",
            "                scale (a geometric progression).\n",
            "    logspace : Similar to `geomspace`, but with the end points specified as\n",
            "               logarithms.\n",
            "    \n",
            "    Examples\n",
            "    --------\n",
            "    >>> np.linspace(2.0, 3.0, num=5)\n",
            "    array([2.  , 2.25, 2.5 , 2.75, 3.  ])\n",
            "    >>> np.linspace(2.0, 3.0, num=5, endpoint=False)\n",
            "    array([2. ,  2.2,  2.4,  2.6,  2.8])\n",
            "    >>> np.linspace(2.0, 3.0, num=5, retstep=True)\n",
            "    (array([2.  ,  2.25,  2.5 ,  2.75,  3.  ]), 0.25)\n",
            "    \n",
            "    Graphical illustration:\n",
            "    \n",
            "    >>> import matplotlib.pyplot as plt\n",
            "    >>> N = 8\n",
            "    >>> y = np.zeros(N)\n",
            "    >>> x1 = np.linspace(0, 10, N, endpoint=True)\n",
            "    >>> x2 = np.linspace(0, 10, N, endpoint=False)\n",
            "    >>> plt.plot(x1, y, 'o')\n",
            "    [<matplotlib.lines.Line2D object at 0x...>]\n",
            "    >>> plt.plot(x2, y + 0.5, 'o')\n",
            "    [<matplotlib.lines.Line2D object at 0x...>]\n",
            "    >>> plt.ylim([-0.5, 1])\n",
            "    (-0.5, 1)\n",
            "    >>> plt.show()\n",
            "\n"
          ]
        }
      ]
    },
    {
      "cell_type": "code",
      "source": [
        "# 50 puntos de -pi a pi\n",
        "x1 = np.linspace(-m.pi,m.pi, 50 , endpoint= True)"
      ],
      "metadata": {
        "id": "NVVVC8GCEjgQ"
      },
      "execution_count": null,
      "outputs": []
    },
    {
      "cell_type": "code",
      "source": [
        "x1"
      ],
      "metadata": {
        "colab": {
          "base_uri": "https://localhost:8080/"
        },
        "id": "UdN1D-jdE45N",
        "outputId": "76090803-48b1-49ab-d13f-cf5f5371318f"
      },
      "execution_count": null,
      "outputs": [
        {
          "output_type": "execute_result",
          "data": {
            "text/plain": [
              "array([-3.14159265, -3.01336438, -2.88513611, -2.75690784, -2.62867957,\n",
              "       -2.5004513 , -2.37222302, -2.24399475, -2.11576648, -1.98753821,\n",
              "       -1.85930994, -1.73108167, -1.60285339, -1.47462512, -1.34639685,\n",
              "       -1.21816858, -1.08994031, -0.96171204, -0.83348377, -0.70525549,\n",
              "       -0.57702722, -0.44879895, -0.32057068, -0.19234241, -0.06411414,\n",
              "        0.06411414,  0.19234241,  0.32057068,  0.44879895,  0.57702722,\n",
              "        0.70525549,  0.83348377,  0.96171204,  1.08994031,  1.21816858,\n",
              "        1.34639685,  1.47462512,  1.60285339,  1.73108167,  1.85930994,\n",
              "        1.98753821,  2.11576648,  2.24399475,  2.37222302,  2.5004513 ,\n",
              "        2.62867957,  2.75690784,  2.88513611,  3.01336438,  3.14159265])"
            ]
          },
          "metadata": {},
          "execution_count": 20
        }
      ]
    },
    {
      "cell_type": "code",
      "source": [
        "len(x1)"
      ],
      "metadata": {
        "colab": {
          "base_uri": "https://localhost:8080/"
        },
        "id": "DrVyyQp1E7SG",
        "outputId": "1ec11e97-af45-4f7c-e85a-a60993335c24"
      },
      "execution_count": null,
      "outputs": [
        {
          "output_type": "execute_result",
          "data": {
            "text/plain": [
              "50"
            ]
          },
          "metadata": {},
          "execution_count": 21
        }
      ]
    },
    {
      "cell_type": "code",
      "source": [
        "# Funcion zeros\n",
        "help(np.zeros)"
      ],
      "metadata": {
        "colab": {
          "base_uri": "https://localhost:8080/"
        },
        "id": "5RpwQst9FErm",
        "outputId": "09e99d68-85ec-410a-c57d-8da8f0a77696"
      },
      "execution_count": null,
      "outputs": [
        {
          "output_type": "stream",
          "name": "stdout",
          "text": [
            "Help on built-in function zeros in module numpy:\n",
            "\n",
            "zeros(...)\n",
            "    zeros(shape, dtype=float, order='C', *, like=None)\n",
            "    \n",
            "    Return a new array of given shape and type, filled with zeros.\n",
            "    \n",
            "    Parameters\n",
            "    ----------\n",
            "    shape : int or tuple of ints\n",
            "        Shape of the new array, e.g., ``(2, 3)`` or ``2``.\n",
            "    dtype : data-type, optional\n",
            "        The desired data-type for the array, e.g., `numpy.int8`.  Default is\n",
            "        `numpy.float64`.\n",
            "    order : {'C', 'F'}, optional, default: 'C'\n",
            "        Whether to store multi-dimensional data in row-major\n",
            "        (C-style) or column-major (Fortran-style) order in\n",
            "        memory.\n",
            "    like : array_like\n",
            "        Reference object to allow the creation of arrays which are not\n",
            "        NumPy arrays. If an array-like passed in as ``like`` supports\n",
            "        the ``__array_function__`` protocol, the result will be defined\n",
            "        by it. In this case, it ensures the creation of an array object\n",
            "        compatible with that passed in via this argument.\n",
            "    \n",
            "        .. versionadded:: 1.20.0\n",
            "    \n",
            "    Returns\n",
            "    -------\n",
            "    out : ndarray\n",
            "        Array of zeros with the given shape, dtype, and order.\n",
            "    \n",
            "    See Also\n",
            "    --------\n",
            "    zeros_like : Return an array of zeros with shape and type of input.\n",
            "    empty : Return a new uninitialized array.\n",
            "    ones : Return a new array setting values to one.\n",
            "    full : Return a new array of given shape filled with value.\n",
            "    \n",
            "    Examples\n",
            "    --------\n",
            "    >>> np.zeros(5)\n",
            "    array([ 0.,  0.,  0.,  0.,  0.])\n",
            "    \n",
            "    >>> np.zeros((5,), dtype=int)\n",
            "    array([0, 0, 0, 0, 0])\n",
            "    \n",
            "    >>> np.zeros((2, 1))\n",
            "    array([[ 0.],\n",
            "           [ 0.]])\n",
            "    \n",
            "    >>> s = (2,2)\n",
            "    >>> np.zeros(s)\n",
            "    array([[ 0.,  0.],\n",
            "           [ 0.,  0.]])\n",
            "    \n",
            "    >>> np.zeros((2,), dtype=[('x', 'i4'), ('y', 'i4')]) # custom dtype\n",
            "    array([(0, 0), (0, 0)],\n",
            "          dtype=[('x', '<i4'), ('y', '<i4')])\n",
            "\n"
          ]
        }
      ]
    },
    {
      "cell_type": "code",
      "source": [
        "y1 = np.zeros(shape = 50)\n",
        "print(y1)"
      ],
      "metadata": {
        "colab": {
          "base_uri": "https://localhost:8080/"
        },
        "id": "wQ4Ju_RgFSWQ",
        "outputId": "5338c859-373b-4a32-c891-b5b51752a452"
      },
      "execution_count": null,
      "outputs": [
        {
          "output_type": "stream",
          "name": "stdout",
          "text": [
            "[0. 0. 0. 0. 0. 0. 0. 0. 0. 0. 0. 0. 0. 0. 0. 0. 0. 0. 0. 0. 0. 0. 0. 0.\n",
            " 0. 0. 0. 0. 0. 0. 0. 0. 0. 0. 0. 0. 0. 0. 0. 0. 0. 0. 0. 0. 0. 0. 0. 0.\n",
            " 0. 0.]\n"
          ]
        }
      ]
    },
    {
      "cell_type": "code",
      "source": [
        "y2 = np.zeros(shape = (1,2))\n",
        "print(y2)"
      ],
      "metadata": {
        "colab": {
          "base_uri": "https://localhost:8080/"
        },
        "id": "JL4TNtYgFaN-",
        "outputId": "70932de4-213a-41c1-c8a4-a2c5d161fe47"
      },
      "execution_count": null,
      "outputs": [
        {
          "output_type": "stream",
          "name": "stdout",
          "text": [
            "[[0. 0.]]\n"
          ]
        }
      ]
    },
    {
      "cell_type": "code",
      "source": [
        "# Objeto tridimensional\n",
        "y3 = np.zeros(shape = (2,3,2))\n",
        "print(y3)"
      ],
      "metadata": {
        "colab": {
          "base_uri": "https://localhost:8080/"
        },
        "id": "RPFnQ9jEFhPg",
        "outputId": "fc0636dd-d70c-49dd-e2de-13266a42fc25"
      },
      "execution_count": null,
      "outputs": [
        {
          "output_type": "stream",
          "name": "stdout",
          "text": [
            "[[[0. 0.]\n",
            "  [0. 0.]\n",
            "  [0. 0.]]\n",
            "\n",
            " [[0. 0.]\n",
            "  [0. 0.]\n",
            "  [0. 0.]]]\n"
          ]
        }
      ]
    },
    {
      "cell_type": "code",
      "source": [
        "np.ones(shape = (2,2))"
      ],
      "metadata": {
        "colab": {
          "base_uri": "https://localhost:8080/"
        },
        "id": "JLxEqDCHFzQr",
        "outputId": "5e6406e7-0e06-4f93-98b1-c5c069b13737"
      },
      "execution_count": null,
      "outputs": [
        {
          "output_type": "execute_result",
          "data": {
            "text/plain": [
              "array([[1., 1.],\n",
              "       [1., 1.]])"
            ]
          },
          "metadata": {},
          "execution_count": 26
        }
      ]
    },
    {
      "cell_type": "code",
      "source": [
        "# Submodulo random \n",
        "dir(np.random)"
      ],
      "metadata": {
        "colab": {
          "base_uri": "https://localhost:8080/"
        },
        "id": "r33eVw6GF5z9",
        "outputId": "fd021b69-fddf-4acf-c12c-ee1c22aa0d80"
      },
      "execution_count": null,
      "outputs": [
        {
          "output_type": "execute_result",
          "data": {
            "text/plain": [
              "['BitGenerator',\n",
              " 'Generator',\n",
              " 'MT19937',\n",
              " 'PCG64',\n",
              " 'PCG64DXSM',\n",
              " 'Philox',\n",
              " 'RandomState',\n",
              " 'SFC64',\n",
              " 'SeedSequence',\n",
              " '__RandomState_ctor',\n",
              " '__all__',\n",
              " '__builtins__',\n",
              " '__cached__',\n",
              " '__doc__',\n",
              " '__file__',\n",
              " '__loader__',\n",
              " '__name__',\n",
              " '__package__',\n",
              " '__path__',\n",
              " '__spec__',\n",
              " '_bounded_integers',\n",
              " '_common',\n",
              " '_generator',\n",
              " '_mt19937',\n",
              " '_pcg64',\n",
              " '_philox',\n",
              " '_pickle',\n",
              " '_sfc64',\n",
              " 'beta',\n",
              " 'binomial',\n",
              " 'bit_generator',\n",
              " 'bytes',\n",
              " 'chisquare',\n",
              " 'choice',\n",
              " 'default_rng',\n",
              " 'dirichlet',\n",
              " 'exponential',\n",
              " 'f',\n",
              " 'gamma',\n",
              " 'geometric',\n",
              " 'get_state',\n",
              " 'gumbel',\n",
              " 'hypergeometric',\n",
              " 'laplace',\n",
              " 'logistic',\n",
              " 'lognormal',\n",
              " 'logseries',\n",
              " 'mtrand',\n",
              " 'multinomial',\n",
              " 'multivariate_normal',\n",
              " 'negative_binomial',\n",
              " 'noncentral_chisquare',\n",
              " 'noncentral_f',\n",
              " 'normal',\n",
              " 'pareto',\n",
              " 'permutation',\n",
              " 'poisson',\n",
              " 'power',\n",
              " 'rand',\n",
              " 'randint',\n",
              " 'randn',\n",
              " 'random',\n",
              " 'random_integers',\n",
              " 'random_sample',\n",
              " 'ranf',\n",
              " 'rayleigh',\n",
              " 'sample',\n",
              " 'seed',\n",
              " 'set_state',\n",
              " 'shuffle',\n",
              " 'standard_cauchy',\n",
              " 'standard_exponential',\n",
              " 'standard_gamma',\n",
              " 'standard_normal',\n",
              " 'standard_t',\n",
              " 'test',\n",
              " 'triangular',\n",
              " 'uniform',\n",
              " 'vonmises',\n",
              " 'wald',\n",
              " 'weibull',\n",
              " 'zipf']"
            ]
          },
          "metadata": {},
          "execution_count": 27
        }
      ]
    },
    {
      "cell_type": "code",
      "source": [
        "# Documentacion de la funcion random, del submodulo random, del modulo numpy\n",
        "help(np.random.random)"
      ],
      "metadata": {
        "colab": {
          "base_uri": "https://localhost:8080/"
        },
        "id": "lEVp3hW8GLYM",
        "outputId": "46a5d1a0-37b0-4bce-9d1d-43ec552bdd55"
      },
      "execution_count": null,
      "outputs": [
        {
          "output_type": "stream",
          "name": "stdout",
          "text": [
            "Help on built-in function random:\n",
            "\n",
            "random(...) method of numpy.random.mtrand.RandomState instance\n",
            "    random(size=None)\n",
            "    \n",
            "    Return random floats in the half-open interval [0.0, 1.0). Alias for\n",
            "    `random_sample` to ease forward-porting to the new random API.\n",
            "\n"
          ]
        }
      ]
    },
    {
      "cell_type": "code",
      "source": [
        "np.random.random()"
      ],
      "metadata": {
        "colab": {
          "base_uri": "https://localhost:8080/"
        },
        "id": "Xxz8wCPrGVT3",
        "outputId": "fca189e0-3ed7-48cf-94c2-a4bc62b24025"
      },
      "execution_count": null,
      "outputs": [
        {
          "output_type": "execute_result",
          "data": {
            "text/plain": [
              "0.5308004562177056"
            ]
          },
          "metadata": {},
          "execution_count": 29
        }
      ]
    },
    {
      "cell_type": "code",
      "source": [
        "# Documentacion de la funcion triangular\n",
        "help(np.random.triangular)"
      ],
      "metadata": {
        "colab": {
          "base_uri": "https://localhost:8080/"
        },
        "id": "-ahW3n3tGbGv",
        "outputId": "fd596f22-f7a0-4d8a-adc6-42178bf43f9f"
      },
      "execution_count": null,
      "outputs": [
        {
          "output_type": "stream",
          "name": "stdout",
          "text": [
            "Help on built-in function triangular:\n",
            "\n",
            "triangular(...) method of numpy.random.mtrand.RandomState instance\n",
            "    triangular(left, mode, right, size=None)\n",
            "    \n",
            "    Draw samples from the triangular distribution over the\n",
            "    interval ``[left, right]``.\n",
            "    \n",
            "    The triangular distribution is a continuous probability\n",
            "    distribution with lower limit left, peak at mode, and upper\n",
            "    limit right. Unlike the other distributions, these parameters\n",
            "    directly define the shape of the pdf.\n",
            "    \n",
            "    .. note::\n",
            "        New code should use the ``triangular`` method of a ``default_rng()``\n",
            "        instance instead; please see the :ref:`random-quick-start`.\n",
            "    \n",
            "    Parameters\n",
            "    ----------\n",
            "    left : float or array_like of floats\n",
            "        Lower limit.\n",
            "    mode : float or array_like of floats\n",
            "        The value where the peak of the distribution occurs.\n",
            "        The value must fulfill the condition ``left <= mode <= right``.\n",
            "    right : float or array_like of floats\n",
            "        Upper limit, must be larger than `left`.\n",
            "    size : int or tuple of ints, optional\n",
            "        Output shape.  If the given shape is, e.g., ``(m, n, k)``, then\n",
            "        ``m * n * k`` samples are drawn.  If size is ``None`` (default),\n",
            "        a single value is returned if ``left``, ``mode``, and ``right``\n",
            "        are all scalars.  Otherwise, ``np.broadcast(left, mode, right).size``\n",
            "        samples are drawn.\n",
            "    \n",
            "    Returns\n",
            "    -------\n",
            "    out : ndarray or scalar\n",
            "        Drawn samples from the parameterized triangular distribution.\n",
            "    \n",
            "    See Also\n",
            "    --------\n",
            "    Generator.triangular: which should be used for new code.\n",
            "    \n",
            "    Notes\n",
            "    -----\n",
            "    The probability density function for the triangular distribution is\n",
            "    \n",
            "    .. math:: P(x;l, m, r) = \\begin{cases}\n",
            "              \\frac{2(x-l)}{(r-l)(m-l)}& \\text{for $l \\leq x \\leq m$},\\\\\n",
            "              \\frac{2(r-x)}{(r-l)(r-m)}& \\text{for $m \\leq x \\leq r$},\\\\\n",
            "              0& \\text{otherwise}.\n",
            "              \\end{cases}\n",
            "    \n",
            "    The triangular distribution is often used in ill-defined\n",
            "    problems where the underlying distribution is not known, but\n",
            "    some knowledge of the limits and mode exists. Often it is used\n",
            "    in simulations.\n",
            "    \n",
            "    References\n",
            "    ----------\n",
            "    .. [1] Wikipedia, \"Triangular distribution\"\n",
            "           https://en.wikipedia.org/wiki/Triangular_distribution\n",
            "    \n",
            "    Examples\n",
            "    --------\n",
            "    Draw values from the distribution and plot the histogram:\n",
            "    \n",
            "    >>> import matplotlib.pyplot as plt\n",
            "    >>> h = plt.hist(np.random.triangular(-3, 0, 8, 100000), bins=200,\n",
            "    ...              density=True)\n",
            "    >>> plt.show()\n",
            "\n"
          ]
        }
      ]
    },
    {
      "cell_type": "code",
      "source": [
        "t1 = np.random.triangular(2.8, 3.23, 9.81, (3,3))\n",
        "print(t1)"
      ],
      "metadata": {
        "colab": {
          "base_uri": "https://localhost:8080/"
        },
        "id": "yUs5RqxjGw-l",
        "outputId": "d8bafcfd-704a-414d-c2b2-a167acc8952a"
      },
      "execution_count": null,
      "outputs": [
        {
          "output_type": "stream",
          "name": "stdout",
          "text": [
            "[[8.412253   3.33567082 9.26137313]\n",
            " [5.43882587 4.30772332 6.73396117]\n",
            " [3.64048097 7.75092998 4.02133034]]\n"
          ]
        }
      ]
    },
    {
      "cell_type": "code",
      "source": [
        "# Dado un objeto de tipo ndarray, tenemos a la mano algunos metodos informativos\n",
        "print(t1.shape)\n",
        "# Es una matriz de dimension 3x3"
      ],
      "metadata": {
        "colab": {
          "base_uri": "https://localhost:8080/"
        },
        "id": "OnvxmAo1GqoE",
        "outputId": "bed8b29f-a727-4890-c7d4-a7187cfe7d8a"
      },
      "execution_count": null,
      "outputs": [
        {
          "output_type": "stream",
          "name": "stdout",
          "text": [
            "(3, 3)\n"
          ]
        }
      ]
    },
    {
      "cell_type": "code",
      "source": [
        "y1.shape"
      ],
      "metadata": {
        "colab": {
          "base_uri": "https://localhost:8080/"
        },
        "id": "CN9wwwCcH8ly",
        "outputId": "35d0d1f1-81af-446b-9426-033221d9da54"
      },
      "execution_count": null,
      "outputs": [
        {
          "output_type": "execute_result",
          "data": {
            "text/plain": [
              "(50,)"
            ]
          },
          "metadata": {},
          "execution_count": 36
        }
      ]
    },
    {
      "cell_type": "code",
      "source": [
        "# Notar que el metodo shape retorna una tupla, y como  bien sabemos podemos acceder\n",
        "# a los elementos de esa tupla\n",
        "NumFilas = t1.shape[0]\n",
        "NumColumnas = t1.shape[1]"
      ],
      "metadata": {
        "id": "p7Hkw_OzIBm5"
      },
      "execution_count": null,
      "outputs": []
    },
    {
      "cell_type": "code",
      "source": [
        "y3.shape"
      ],
      "metadata": {
        "colab": {
          "base_uri": "https://localhost:8080/"
        },
        "id": "aFDjmFvRIWJk",
        "outputId": "b891ca86-6480-4c42-eb2f-ef3c5d9ca23a"
      },
      "execution_count": null,
      "outputs": [
        {
          "output_type": "execute_result",
          "data": {
            "text/plain": [
              "(2, 3, 2)"
            ]
          },
          "metadata": {},
          "execution_count": 39
        }
      ]
    },
    {
      "cell_type": "code",
      "source": [
        "# Numero de dimensiones del objeto \n",
        "y1.ndim"
      ],
      "metadata": {
        "colab": {
          "base_uri": "https://localhost:8080/"
        },
        "id": "w49FOZMsIdsG",
        "outputId": "06fde468-19d0-4c91-96e7-7d8039441092"
      },
      "execution_count": null,
      "outputs": [
        {
          "output_type": "execute_result",
          "data": {
            "text/plain": [
              "1"
            ]
          },
          "metadata": {},
          "execution_count": 40
        }
      ]
    },
    {
      "cell_type": "code",
      "source": [
        "y3.ndim"
      ],
      "metadata": {
        "colab": {
          "base_uri": "https://localhost:8080/"
        },
        "id": "XZ7RJJW6Ij_C",
        "outputId": "aaca00c1-fb2f-40b7-fe49-80fd60e6e88b"
      },
      "execution_count": null,
      "outputs": [
        {
          "output_type": "execute_result",
          "data": {
            "text/plain": [
              "3"
            ]
          },
          "metadata": {},
          "execution_count": 41
        }
      ]
    },
    {
      "cell_type": "code",
      "source": [
        "# Tipo de dato de cada elemento de un objeto de tipo ndarray\n",
        "t1.dtype"
      ],
      "metadata": {
        "colab": {
          "base_uri": "https://localhost:8080/"
        },
        "id": "DxTAjP0MIo0-",
        "outputId": "02147a17-4989-46e9-ff8c-c884eba66c48"
      },
      "execution_count": null,
      "outputs": [
        {
          "output_type": "execute_result",
          "data": {
            "text/plain": [
              "dtype('float64')"
            ]
          },
          "metadata": {},
          "execution_count": 43
        }
      ]
    },
    {
      "cell_type": "code",
      "source": [
        "# Definamos un vector con componentes bool\n",
        "b1 = np.array([True, True, False, False, True, True ])\n",
        "print(b1)"
      ],
      "metadata": {
        "colab": {
          "base_uri": "https://localhost:8080/"
        },
        "id": "zmfhnkkGI1QN",
        "outputId": "ad07bcf0-493d-45d7-da77-19be6797b2f0"
      },
      "execution_count": null,
      "outputs": [
        {
          "output_type": "stream",
          "name": "stdout",
          "text": [
            "[ True  True False False  True  True]\n"
          ]
        }
      ]
    },
    {
      "cell_type": "code",
      "source": [
        "b1.shape"
      ],
      "metadata": {
        "colab": {
          "base_uri": "https://localhost:8080/"
        },
        "id": "gUczuuO4JDsj",
        "outputId": "f391ffaa-3763-4320-d0c3-71eae9e039f0"
      },
      "execution_count": null,
      "outputs": [
        {
          "output_type": "execute_result",
          "data": {
            "text/plain": [
              "(6,)"
            ]
          },
          "metadata": {},
          "execution_count": 47
        }
      ]
    },
    {
      "cell_type": "code",
      "source": [
        "b1.ndim"
      ],
      "metadata": {
        "colab": {
          "base_uri": "https://localhost:8080/"
        },
        "id": "B0BSPlObJF6j",
        "outputId": "270c6fc5-7714-4b25-87cd-4eb2e3133c48"
      },
      "execution_count": null,
      "outputs": [
        {
          "output_type": "execute_result",
          "data": {
            "text/plain": [
              "1"
            ]
          },
          "metadata": {},
          "execution_count": 48
        }
      ]
    },
    {
      "cell_type": "code",
      "source": [
        "b1.dtype"
      ],
      "metadata": {
        "colab": {
          "base_uri": "https://localhost:8080/"
        },
        "id": "0qqzJfMIJHgv",
        "outputId": "2778ca39-a4b7-4308-a03c-d22256d60a71"
      },
      "execution_count": null,
      "outputs": [
        {
          "output_type": "execute_result",
          "data": {
            "text/plain": [
              "dtype('bool')"
            ]
          },
          "metadata": {},
          "execution_count": 49
        }
      ]
    },
    {
      "cell_type": "code",
      "source": [
        "# acceso a las componentes de un objeto de tipo ndarray\n",
        "c[0,0]"
      ],
      "metadata": {
        "colab": {
          "base_uri": "https://localhost:8080/"
        },
        "id": "R_eaAnr6JQsl",
        "outputId": "5ffa7019-bcaf-469f-8aa0-f19c789dc325"
      },
      "execution_count": null,
      "outputs": [
        {
          "output_type": "execute_result",
          "data": {
            "text/plain": [
              "0"
            ]
          },
          "metadata": {},
          "execution_count": 54
        }
      ]
    },
    {
      "cell_type": "code",
      "source": [
        "c[0, 2]"
      ],
      "metadata": {
        "colab": {
          "base_uri": "https://localhost:8080/"
        },
        "id": "ipjqVTW3Jj_I",
        "outputId": "7c055d81-a76d-4c2b-e903-4b36827f97f9"
      },
      "execution_count": null,
      "outputs": [
        {
          "output_type": "execute_result",
          "data": {
            "text/plain": [
              "0"
            ]
          },
          "metadata": {},
          "execution_count": 56
        }
      ]
    },
    {
      "cell_type": "code",
      "source": [
        "# la 2da columna \n",
        "c[:,1]"
      ],
      "metadata": {
        "colab": {
          "base_uri": "https://localhost:8080/"
        },
        "id": "HhI0NXULJp2o",
        "outputId": "ca6935a7-5acb-49a3-fbd9-9d673a9485f5"
      },
      "execution_count": null,
      "outputs": [
        {
          "output_type": "execute_result",
          "data": {
            "text/plain": [
              "array([1, 4, 1])"
            ]
          },
          "metadata": {},
          "execution_count": 57
        }
      ]
    },
    {
      "cell_type": "code",
      "source": [
        "c"
      ],
      "metadata": {
        "colab": {
          "base_uri": "https://localhost:8080/"
        },
        "id": "9msW_WniJ2XJ",
        "outputId": "5b78cadf-6e2f-4c05-d303-4d8b0c915f8f"
      },
      "execution_count": null,
      "outputs": [
        {
          "output_type": "execute_result",
          "data": {
            "text/plain": [
              "array([[0, 1, 0],\n",
              "       [2, 4, 6],\n",
              "       [1, 1, 1]])"
            ]
          },
          "metadata": {},
          "execution_count": 59
        }
      ]
    },
    {
      "cell_type": "code",
      "source": [
        "# la 3era columna \n",
        "c[:,2]"
      ],
      "metadata": {
        "colab": {
          "base_uri": "https://localhost:8080/"
        },
        "id": "0816JeX2J9TD",
        "outputId": "98c1a686-6da9-4e60-90f4-992875c72863"
      },
      "execution_count": null,
      "outputs": [
        {
          "output_type": "execute_result",
          "data": {
            "text/plain": [
              "array([0, 6, 1])"
            ]
          },
          "metadata": {},
          "execution_count": 60
        }
      ]
    },
    {
      "cell_type": "code",
      "source": [
        "# CReemos un objeto de tipo ndarray de tamaño 6x6\n",
        "D = np.random.chisquare(12.4, (6,6))"
      ],
      "metadata": {
        "id": "ecuMioGpKGXo"
      },
      "execution_count": null,
      "outputs": []
    },
    {
      "cell_type": "code",
      "source": [
        "D"
      ],
      "metadata": {
        "colab": {
          "base_uri": "https://localhost:8080/"
        },
        "id": "2rH7094GKcJn",
        "outputId": "77c58853-f998-41fd-9256-d48215da8773"
      },
      "execution_count": null,
      "outputs": [
        {
          "output_type": "execute_result",
          "data": {
            "text/plain": [
              "array([[ 7.10439406, 10.94111842,  6.98641479, 12.13808862, 16.97519209,\n",
              "        18.58002177],\n",
              "       [21.82356024, 10.39429974,  6.1060043 ,  6.66360671, 11.00995866,\n",
              "        10.85011881],\n",
              "       [ 5.24781607, 11.86726459, 23.04259648, 12.8673483 , 14.97948517,\n",
              "        17.36799335],\n",
              "       [ 9.2188697 ,  6.08737562,  7.45975545, 11.02052762, 13.70832138,\n",
              "        11.48046471],\n",
              "       [14.74223783, 14.68436319, 14.96497659, 28.54855624,  9.25374573,\n",
              "        19.72688132],\n",
              "       [ 8.20678716,  7.41882941, 22.62495539, 13.46789174,  9.23622579,\n",
              "         8.92666029]])"
            ]
          },
          "metadata": {},
          "execution_count": 63
        }
      ]
    },
    {
      "cell_type": "code",
      "source": [
        "# Deseo obtener las columnas 2,3 y 4\n",
        "E = D[:, [2,3,4]]"
      ],
      "metadata": {
        "id": "1EwBO9YdKd5f"
      },
      "execution_count": null,
      "outputs": []
    },
    {
      "cell_type": "code",
      "source": [
        "# Funciones de agregacion\n",
        "D.sum(axis = 0)"
      ],
      "metadata": {
        "colab": {
          "base_uri": "https://localhost:8080/"
        },
        "id": "xi6EzROlKs8J",
        "outputId": "b168b963-504e-4d50-defe-40f40a9f3885"
      },
      "execution_count": null,
      "outputs": [
        {
          "output_type": "execute_result",
          "data": {
            "text/plain": [
              "array([66.34366507, 61.39325097, 81.18470299, 84.70601923, 75.16292882,\n",
              "       86.93214025])"
            ]
          },
          "metadata": {},
          "execution_count": 66
        }
      ]
    },
    {
      "cell_type": "code",
      "source": [
        "# Calcular la suma de las filas de E\n",
        "E.sum(axis = 1)"
      ],
      "metadata": {
        "colab": {
          "base_uri": "https://localhost:8080/"
        },
        "id": "hsDv9xDbK_Yf",
        "outputId": "7c72754c-3a70-4cee-baac-126bcfcda229"
      },
      "execution_count": null,
      "outputs": [
        {
          "output_type": "execute_result",
          "data": {
            "text/plain": [
              "array([36.0996955 , 23.77956966, 50.88942996, 32.18860444, 52.76727856,\n",
              "       45.32907291])"
            ]
          },
          "metadata": {},
          "execution_count": 68
        }
      ]
    },
    {
      "cell_type": "code",
      "source": [
        "# Calculemos la suma de las de columnas de E\n",
        "E.sum(axis = 0)"
      ],
      "metadata": {
        "colab": {
          "base_uri": "https://localhost:8080/"
        },
        "id": "rT1uuNbELJzh",
        "outputId": "7bca5714-7cd3-4168-8479-c70ff6e7c8ff"
      },
      "execution_count": null,
      "outputs": [
        {
          "output_type": "execute_result",
          "data": {
            "text/plain": [
              "array([81.18470299, 84.70601923, 75.16292882])"
            ]
          },
          "metadata": {},
          "execution_count": 70
        }
      ]
    },
    {
      "cell_type": "code",
      "source": [
        "# Calculo del promedio aritmetido : metodo mean\n",
        "help(E.mean)"
      ],
      "metadata": {
        "colab": {
          "base_uri": "https://localhost:8080/"
        },
        "id": "eH3ZnfQ5LYI_",
        "outputId": "b8f134e9-ea73-4730-c483-c8705d1eb530"
      },
      "execution_count": null,
      "outputs": [
        {
          "output_type": "stream",
          "name": "stdout",
          "text": [
            "Help on built-in function mean:\n",
            "\n",
            "mean(...) method of numpy.ndarray instance\n",
            "    a.mean(axis=None, dtype=None, out=None, keepdims=False, *, where=True)\n",
            "    \n",
            "    Returns the average of the array elements along given axis.\n",
            "    \n",
            "    Refer to `numpy.mean` for full documentation.\n",
            "    \n",
            "    See Also\n",
            "    --------\n",
            "    numpy.mean : equivalent function\n",
            "\n"
          ]
        }
      ]
    },
    {
      "cell_type": "code",
      "source": [
        "# Retorna el promedio para cada fila \n",
        "E.mean(axis = 1)"
      ],
      "metadata": {
        "colab": {
          "base_uri": "https://localhost:8080/"
        },
        "id": "QJdIGIPhLh8B",
        "outputId": "64e6f530-5f9c-4a8d-ae89-c87fefb11f74"
      },
      "execution_count": null,
      "outputs": [
        {
          "output_type": "execute_result",
          "data": {
            "text/plain": [
              "array([12.03323183,  7.92652322, 16.96314332, 10.72953481, 17.58909285,\n",
              "       15.10969097])"
            ]
          },
          "metadata": {},
          "execution_count": 73
        }
      ]
    },
    {
      "cell_type": "code",
      "source": [
        "# Calculo del promedio para cada columna \n",
        "E.mean(axis = 0)"
      ],
      "metadata": {
        "colab": {
          "base_uri": "https://localhost:8080/"
        },
        "id": "Q8SbE-PvLsiU",
        "outputId": "bbbf7332-7e3e-4dc4-8109-f9cc0aaaf3b6"
      },
      "execution_count": null,
      "outputs": [
        {
          "output_type": "execute_result",
          "data": {
            "text/plain": [
              "array([13.53078383, 14.11766987, 12.5271548 ])"
            ]
          },
          "metadata": {},
          "execution_count": 74
        }
      ]
    },
    {
      "cell_type": "code",
      "source": [
        "help(E.min)"
      ],
      "metadata": {
        "colab": {
          "base_uri": "https://localhost:8080/"
        },
        "id": "UD8M8fv2L3UC",
        "outputId": "a959181f-bf47-4cc8-cb5f-a959da6fa02b"
      },
      "execution_count": null,
      "outputs": [
        {
          "output_type": "stream",
          "name": "stdout",
          "text": [
            "Help on built-in function min:\n",
            "\n",
            "min(...) method of numpy.ndarray instance\n",
            "    a.min(axis=None, out=None, keepdims=False, initial=<no value>, where=True)\n",
            "    \n",
            "    Return the minimum along a given axis.\n",
            "    \n",
            "    Refer to `numpy.amin` for full documentation.\n",
            "    \n",
            "    See Also\n",
            "    --------\n",
            "    numpy.amin : equivalent function\n",
            "\n"
          ]
        }
      ]
    },
    {
      "cell_type": "code",
      "source": [
        "help(E.max)"
      ],
      "metadata": {
        "colab": {
          "base_uri": "https://localhost:8080/"
        },
        "id": "ymFhVHIOL6Og",
        "outputId": "22446f2e-4f9a-4769-bc45-21fe54c72be2"
      },
      "execution_count": null,
      "outputs": [
        {
          "output_type": "stream",
          "name": "stdout",
          "text": [
            "Help on built-in function max:\n",
            "\n",
            "max(...) method of numpy.ndarray instance\n",
            "    a.max(axis=None, out=None, keepdims=False, initial=<no value>, where=True)\n",
            "    \n",
            "    Return the maximum along a given axis.\n",
            "    \n",
            "    Refer to `numpy.amax` for full documentation.\n",
            "    \n",
            "    See Also\n",
            "    --------\n",
            "    numpy.amax : equivalent function\n",
            "\n"
          ]
        }
      ]
    },
    {
      "cell_type": "code",
      "source": [
        "# Desviacion estandar\n",
        "help(E.std)"
      ],
      "metadata": {
        "colab": {
          "base_uri": "https://localhost:8080/"
        },
        "id": "JUtgj53KL84i",
        "outputId": "593dbce4-ea66-4115-caa3-8ce2e642ea5b"
      },
      "execution_count": null,
      "outputs": [
        {
          "output_type": "stream",
          "name": "stdout",
          "text": [
            "Help on built-in function std:\n",
            "\n",
            "std(...) method of numpy.ndarray instance\n",
            "    a.std(axis=None, dtype=None, out=None, ddof=0, keepdims=False, *, where=True)\n",
            "    \n",
            "    Returns the standard deviation of the array elements along given axis.\n",
            "    \n",
            "    Refer to `numpy.std` for full documentation.\n",
            "    \n",
            "    See Also\n",
            "    --------\n",
            "    numpy.std : equivalent function\n",
            "\n"
          ]
        }
      ]
    },
    {
      "cell_type": "code",
      "source": [
        "# Desviacion estandar de cada columna \n",
        "E.std(axis = 0)\n"
      ],
      "metadata": {
        "colab": {
          "base_uri": "https://localhost:8080/"
        },
        "id": "y7jzYKRbMD8V",
        "outputId": "d7fd7ca5-fdbc-4853-aea8-012cd97b2d4b"
      },
      "execution_count": null,
      "outputs": [
        {
          "output_type": "execute_result",
          "data": {
            "text/plain": [
              "array([7.18852034, 6.82287924, 2.9166596 ])"
            ]
          },
          "metadata": {},
          "execution_count": 79
        }
      ]
    },
    {
      "cell_type": "code",
      "source": [
        "# Desviacion estandar para cada fila \n",
        "E.std(axis = 1)"
      ],
      "metadata": {
        "colab": {
          "base_uri": "https://localhost:8080/"
        },
        "id": "Fak7mLoMMSTq",
        "outputId": "a80e0a43-3fd9-48cf-990a-d74e70956fc6"
      },
      "execution_count": null,
      "outputs": [
        {
          "output_type": "execute_result",
          "data": {
            "text/plain": [
              "4.482494414382033"
            ]
          },
          "metadata": {},
          "execution_count": 82
        }
      ]
    },
    {
      "cell_type": "code",
      "source": [
        "E[E > 9.3]"
      ],
      "metadata": {
        "colab": {
          "base_uri": "https://localhost:8080/"
        },
        "id": "wcFesPiXMics",
        "outputId": "97ebc60e-5f4b-41fb-d243-e578bbbe3f27"
      },
      "execution_count": null,
      "outputs": [
        {
          "output_type": "execute_result",
          "data": {
            "text/plain": [
              "array([12.13808862, 16.97519209, 11.00995866, 23.04259648, 12.8673483 ,\n",
              "       14.97948517, 11.02052762, 13.70832138, 14.96497659, 28.54855624,\n",
              "       22.62495539, 13.46789174])"
            ]
          },
          "metadata": {},
          "execution_count": 88
        }
      ]
    },
    {
      "cell_type": "code",
      "source": [
        "Q = np.random.normal(loc = 12.4, scale = 9.2, size = (4,4))\n",
        "P = np.random.normal(loc = 12.4, scale = 9.2, size = (4,4))\n",
        "print(P)\n",
        "print(Q)"
      ],
      "metadata": {
        "colab": {
          "base_uri": "https://localhost:8080/"
        },
        "id": "3bjuaOgIMoRg",
        "outputId": "333eac72-f2cc-4a5e-fab9-78ad20e1b52f"
      },
      "execution_count": null,
      "outputs": [
        {
          "output_type": "stream",
          "name": "stdout",
          "text": [
            "[[ 3.70317078 12.27390527  9.87364181 11.31392418]\n",
            " [12.77949071 -1.71488487  5.21402941  7.38716065]\n",
            " [ 1.06980561  6.63099927  7.83720248 -1.9868929 ]\n",
            " [21.51612758  2.13786015  0.49950079  5.26854804]]\n",
            "[[13.741292   12.09728498 13.32697657  9.10643799]\n",
            " [12.41865501 10.10005178 -2.59234171  8.71685569]\n",
            " [11.00953709  4.90549771 17.8210189  30.12537797]\n",
            " [-5.67827168 13.58471747  0.2569123   8.1814387 ]]\n"
          ]
        }
      ]
    },
    {
      "cell_type": "code",
      "source": [
        "# Operacion elemento a elemento\n",
        "# R[i,j] = P[i,j] + Q[i,j]\n",
        "\n",
        "R = P + Q"
      ],
      "metadata": {
        "id": "tk2CqkXXNaxw"
      },
      "execution_count": null,
      "outputs": []
    },
    {
      "cell_type": "code",
      "source": [
        "# Operacion elemento a elemento\n",
        "# T[i,j] = P[i,j] - Q[i,j]\n",
        "\n",
        "\n",
        "T = P - Q\n",
        "print(T)"
      ],
      "metadata": {
        "colab": {
          "base_uri": "https://localhost:8080/"
        },
        "id": "RoiL7vX5NhIB",
        "outputId": "d872e923-b0e0-45f6-8e58-dfe64faad9e8"
      },
      "execution_count": null,
      "outputs": [
        {
          "output_type": "stream",
          "name": "stdout",
          "text": [
            "[[-10.03812122   0.17662029  -3.45333476   2.20748619]\n",
            " [  0.3608357  -11.81493665   7.80637111  -1.32969505]\n",
            " [ -9.93973148   1.72550156  -9.98381643 -32.11227088]\n",
            " [ 27.19439926 -11.44685732   0.24258849  -2.91289066]]\n"
          ]
        }
      ]
    },
    {
      "cell_type": "code",
      "source": [
        "# Operacion elemento a elemento\n",
        "# Prod[i,j] = P[i,j] * Q[i,j]\n",
        "\n",
        "\n",
        "Prod = P*Q"
      ],
      "metadata": {
        "id": "KP4ICVYuN66n"
      },
      "execution_count": null,
      "outputs": []
    },
    {
      "cell_type": "code",
      "source": [
        "# Multiplicacion matricial\n",
        "help(np.multiply)"
      ],
      "metadata": {
        "id": "p8Ew8PcBOVi5"
      },
      "execution_count": null,
      "outputs": []
    },
    {
      "cell_type": "code",
      "source": [
        "# multiplicacion matricial de P  y Q\n",
        "M1 = np.multiply(P,Q)\n",
        "print(M1)"
      ],
      "metadata": {
        "colab": {
          "base_uri": "https://localhost:8080/"
        },
        "id": "JM7zP_wcOedq",
        "outputId": "92569cce-b80d-4af1-8a83-e84ad3062cbd"
      },
      "execution_count": null,
      "outputs": [
        {
          "output_type": "stream",
          "name": "stdout",
          "text": [
            "[[ 5.08863509e+01  1.48480930e+02  1.31585793e+02  1.03029549e+02]\n",
            " [ 1.58704086e+02 -1.73204260e+01 -1.35165459e+01  6.43928134e+01]\n",
            " [ 1.17780646e+01  3.25283517e+01  1.39666933e+02 -5.98558997e+01]\n",
            " [-1.22174418e+02  2.90422262e+01  1.28327900e-01  4.31043028e+01]]\n"
          ]
        }
      ]
    },
    {
      "cell_type": "code",
      "source": [
        "# Submodulo de algebra lineal\n",
        "help(np.linalg)"
      ],
      "metadata": {
        "id": "xgv_FB8QOqm-"
      },
      "execution_count": null,
      "outputs": []
    },
    {
      "cell_type": "code",
      "source": [
        "# lista de funciones del submodulo de algebra lineal \n",
        "dir(np.linalg)"
      ],
      "metadata": {
        "colab": {
          "base_uri": "https://localhost:8080/"
        },
        "id": "x2EaYkjORZ0M",
        "outputId": "736f5a86-7800-4c2c-d215-113e31b011da"
      },
      "execution_count": null,
      "outputs": [
        {
          "output_type": "execute_result",
          "data": {
            "text/plain": [
              "['LinAlgError',\n",
              " '__all__',\n",
              " '__builtins__',\n",
              " '__cached__',\n",
              " '__doc__',\n",
              " '__file__',\n",
              " '__loader__',\n",
              " '__name__',\n",
              " '__package__',\n",
              " '__path__',\n",
              " '__spec__',\n",
              " '_umath_linalg',\n",
              " 'cholesky',\n",
              " 'cond',\n",
              " 'det',\n",
              " 'eig',\n",
              " 'eigh',\n",
              " 'eigvals',\n",
              " 'eigvalsh',\n",
              " 'inv',\n",
              " 'lapack_lite',\n",
              " 'linalg',\n",
              " 'lstsq',\n",
              " 'matrix_power',\n",
              " 'matrix_rank',\n",
              " 'multi_dot',\n",
              " 'norm',\n",
              " 'pinv',\n",
              " 'qr',\n",
              " 'slogdet',\n",
              " 'solve',\n",
              " 'svd',\n",
              " 'tensorinv',\n",
              " 'tensorsolve',\n",
              " 'test']"
            ]
          },
          "metadata": {},
          "execution_count": 104
        }
      ]
    },
    {
      "cell_type": "code",
      "source": [
        "# Documentacion de la funcion inv\n",
        "help(np.linalg.inv)"
      ],
      "metadata": {
        "colab": {
          "base_uri": "https://localhost:8080/"
        },
        "id": "S7oRQYwtRuEO",
        "outputId": "b7482a26-6b48-4928-f4c0-47cce2aa1cf7"
      },
      "execution_count": null,
      "outputs": [
        {
          "output_type": "stream",
          "name": "stdout",
          "text": [
            "Help on function inv in module numpy.linalg:\n",
            "\n",
            "inv(a)\n",
            "    Compute the (multiplicative) inverse of a matrix.\n",
            "    \n",
            "    Given a square matrix `a`, return the matrix `ainv` satisfying\n",
            "    ``dot(a, ainv) = dot(ainv, a) = eye(a.shape[0])``.\n",
            "    \n",
            "    Parameters\n",
            "    ----------\n",
            "    a : (..., M, M) array_like\n",
            "        Matrix to be inverted.\n",
            "    \n",
            "    Returns\n",
            "    -------\n",
            "    ainv : (..., M, M) ndarray or matrix\n",
            "        (Multiplicative) inverse of the matrix `a`.\n",
            "    \n",
            "    Raises\n",
            "    ------\n",
            "    LinAlgError\n",
            "        If `a` is not square or inversion fails.\n",
            "    \n",
            "    See Also\n",
            "    --------\n",
            "    scipy.linalg.inv : Similar function in SciPy.\n",
            "    \n",
            "    Notes\n",
            "    -----\n",
            "    \n",
            "    .. versionadded:: 1.8.0\n",
            "    \n",
            "    Broadcasting rules apply, see the `numpy.linalg` documentation for\n",
            "    details.\n",
            "    \n",
            "    Examples\n",
            "    --------\n",
            "    >>> from numpy.linalg import inv\n",
            "    >>> a = np.array([[1., 2.], [3., 4.]])\n",
            "    >>> ainv = inv(a)\n",
            "    >>> np.allclose(np.dot(a, ainv), np.eye(2))\n",
            "    True\n",
            "    >>> np.allclose(np.dot(ainv, a), np.eye(2))\n",
            "    True\n",
            "    \n",
            "    If a is a matrix object, then the return value is a matrix as well:\n",
            "    \n",
            "    >>> ainv = inv(np.matrix(a))\n",
            "    >>> ainv\n",
            "    matrix([[-2. ,  1. ],\n",
            "            [ 1.5, -0.5]])\n",
            "    \n",
            "    Inverses of several matrices can be computed at once:\n",
            "    \n",
            "    >>> a = np.array([[[1., 2.], [3., 4.]], [[1, 3], [3, 5]]])\n",
            "    >>> inv(a)\n",
            "    array([[[-2.  ,  1.  ],\n",
            "            [ 1.5 , -0.5 ]],\n",
            "           [[-1.25,  0.75],\n",
            "            [ 0.75, -0.25]]])\n",
            "\n"
          ]
        }
      ]
    },
    {
      "cell_type": "code",
      "source": [
        "# Documentacion de la funcion pinv\n",
        "help(np.linalg.pinv)"
      ],
      "metadata": {
        "colab": {
          "base_uri": "https://localhost:8080/"
        },
        "id": "KB0v3zFcR-dw",
        "outputId": "a3071bf6-c4db-42c8-f29e-b7ddf3e9fd55"
      },
      "execution_count": null,
      "outputs": [
        {
          "output_type": "stream",
          "name": "stdout",
          "text": [
            "Help on function pinv in module numpy.linalg:\n",
            "\n",
            "pinv(a, rcond=1e-15, hermitian=False)\n",
            "    Compute the (Moore-Penrose) pseudo-inverse of a matrix.\n",
            "    \n",
            "    Calculate the generalized inverse of a matrix using its\n",
            "    singular-value decomposition (SVD) and including all\n",
            "    *large* singular values.\n",
            "    \n",
            "    .. versionchanged:: 1.14\n",
            "       Can now operate on stacks of matrices\n",
            "    \n",
            "    Parameters\n",
            "    ----------\n",
            "    a : (..., M, N) array_like\n",
            "        Matrix or stack of matrices to be pseudo-inverted.\n",
            "    rcond : (...) array_like of float\n",
            "        Cutoff for small singular values.\n",
            "        Singular values less than or equal to\n",
            "        ``rcond * largest_singular_value`` are set to zero.\n",
            "        Broadcasts against the stack of matrices.\n",
            "    hermitian : bool, optional\n",
            "        If True, `a` is assumed to be Hermitian (symmetric if real-valued),\n",
            "        enabling a more efficient method for finding singular values.\n",
            "        Defaults to False.\n",
            "    \n",
            "        .. versionadded:: 1.17.0\n",
            "    \n",
            "    Returns\n",
            "    -------\n",
            "    B : (..., N, M) ndarray\n",
            "        The pseudo-inverse of `a`. If `a` is a `matrix` instance, then so\n",
            "        is `B`.\n",
            "    \n",
            "    Raises\n",
            "    ------\n",
            "    LinAlgError\n",
            "        If the SVD computation does not converge.\n",
            "    \n",
            "    See Also\n",
            "    --------\n",
            "    scipy.linalg.pinv : Similar function in SciPy.\n",
            "    scipy.linalg.pinv2 : Similar function in SciPy (SVD-based).\n",
            "    scipy.linalg.pinvh : Compute the (Moore-Penrose) pseudo-inverse of a\n",
            "                         Hermitian matrix.\n",
            "    \n",
            "    Notes\n",
            "    -----\n",
            "    The pseudo-inverse of a matrix A, denoted :math:`A^+`, is\n",
            "    defined as: \"the matrix that 'solves' [the least-squares problem]\n",
            "    :math:`Ax = b`,\" i.e., if :math:`\\bar{x}` is said solution, then\n",
            "    :math:`A^+` is that matrix such that :math:`\\bar{x} = A^+b`.\n",
            "    \n",
            "    It can be shown that if :math:`Q_1 \\Sigma Q_2^T = A` is the singular\n",
            "    value decomposition of A, then\n",
            "    :math:`A^+ = Q_2 \\Sigma^+ Q_1^T`, where :math:`Q_{1,2}` are\n",
            "    orthogonal matrices, :math:`\\Sigma` is a diagonal matrix consisting\n",
            "    of A's so-called singular values, (followed, typically, by\n",
            "    zeros), and then :math:`\\Sigma^+` is simply the diagonal matrix\n",
            "    consisting of the reciprocals of A's singular values\n",
            "    (again, followed by zeros). [1]_\n",
            "    \n",
            "    References\n",
            "    ----------\n",
            "    .. [1] G. Strang, *Linear Algebra and Its Applications*, 2nd Ed., Orlando,\n",
            "           FL, Academic Press, Inc., 1980, pp. 139-142.\n",
            "    \n",
            "    Examples\n",
            "    --------\n",
            "    The following example checks that ``a * a+ * a == a`` and\n",
            "    ``a+ * a * a+ == a+``:\n",
            "    \n",
            "    >>> a = np.random.randn(9, 6)\n",
            "    >>> B = np.linalg.pinv(a)\n",
            "    >>> np.allclose(a, np.dot(a, np.dot(B, a)))\n",
            "    True\n",
            "    >>> np.allclose(B, np.dot(B, np.dot(a, B)))\n",
            "    True\n",
            "\n"
          ]
        }
      ]
    },
    {
      "cell_type": "code",
      "source": [
        "# Generemos matrices de tamño/dimension 100000x100000 \n",
        "# Calculemos sus inversas : usando inv y pinv \n",
        "# Y midamos los tiempos de unas 500 veces\n",
        "\n",
        "n = 500\n",
        "NumVeces = 500\n",
        "\n",
        "NumCorrectas1 = 0\n",
        "INICIO1 = time.time()\n",
        "for v in range(500):\n",
        "  A = np.random.triangular(1.3, 3.8, 12.9, (n,n))\n",
        "  B = np.linalg.inv(A)\n",
        "  Id = np.dot(A,B)\n",
        "  V = np.identity(n) == Id\n",
        "  if V.sum() == n*n:\n",
        "    NumCorrectas1 = NumCorrectas1 +1\n",
        "FIN1 = time.time()\n",
        "\n",
        "\n",
        "NumCorrectas2 = 0\n",
        "INICIO2 = time.time()\n",
        "for v in range(NumVeces):\n",
        "  A = np.random.triangular(1.3, 3.8, 12.9, (n,n))\n",
        "  B = np.linalg.pinv(A)\n",
        "  Id = np.dot(A,B)\n",
        "  V = np.identity(n) == Id\n",
        "  if V.sum() == n*n:\n",
        "    NumCorrectas2 = NumCorrectas2 +1 \n",
        "FIN2 = time.time()\n",
        "\n",
        "print(\"Tiempo usando : inv \" , FIN1-INICIO1)\n",
        "print(\"Tiempo usando : pinv\", FIN2-INICIO2)\n",
        "print(\"El numero de correctas para inv es \" ,NumCorrectas1)\n",
        "print(\"El numero de correctas para pinv es \" , NumCorrectas2)"
      ],
      "metadata": {
        "colab": {
          "base_uri": "https://localhost:8080/"
        },
        "id": "DLMZ10l6Ssbb",
        "outputId": "4db806f6-429c-49e8-b4e1-1810631e5900"
      },
      "execution_count": null,
      "outputs": [
        {
          "output_type": "stream",
          "name": "stdout",
          "text": [
            "Tiempo usando : inv  19.06002187728882\n",
            "Tiempo usando : pinv 76.40150880813599\n",
            "El numero de correctas para inv es  0\n",
            "El numero de correctas para pinv es  0\n"
          ]
        }
      ]
    }
  ]
}